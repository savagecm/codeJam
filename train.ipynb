{
  "nbformat": 4,
  "nbformat_minor": 0,
  "metadata": {
    "kernelspec": {
      "display_name": "Python 3",
      "language": "python",
      "name": "python3"
    },
    "language_info": {
      "codemirror_mode": {
        "name": "ipython",
        "version": 3
      },
      "file_extension": ".py",
      "mimetype": "text/x-python",
      "name": "python",
      "nbconvert_exporter": "python",
      "pygments_lexer": "ipython3",
      "version": "3.7.3"
    },
    "colab": {
      "name": "integrage_test_turn_in.ipynb",
      "provenance": []
    }
  },
  "cells": [
    {
      "cell_type": "code",
      "metadata": {
        "scrolled": false,
        "id": "OwQ6mD-Jgl-M",
        "colab_type": "code",
        "colab": {
          "base_uri": "https://localhost:8080/",
          "height": 448
        },
        "outputId": "a946d86e-daaf-4a87-8a79-523a851c4b49"
      },
      "source": [
        "import numpy as np\n",
        "import pandas as pd\n",
        "import joblib\n",
        "from imblearn.over_sampling import SMOTE\n",
        "from sklearn.preprocessing import  OneHotEncoder\n",
        "from category_encoders import BinaryEncoder\n",
        "from sklearn import preprocessing\n",
        "from sklearn.metrics import classification_report\n",
        "from zipfile import ZipFile \n",
        "import requests\n",
        "import pickle"
      ],
      "execution_count": 1,
      "outputs": [
        {
          "output_type": "stream",
          "text": [
            "/usr/local/lib/python3.6/dist-packages/sklearn/externals/six.py:31: DeprecationWarning: The module is deprecated in version 0.21 and will be removed in version 0.23 since we've dropped support for Python 2.7. Please rely on the official version of six (https://pypi.org/project/six/).\n",
            "  \"(https://pypi.org/project/six/).\", DeprecationWarning)\n"
          ],
          "name": "stderr"
        },
        {
          "output_type": "error",
          "ename": "ModuleNotFoundError",
          "evalue": "ignored",
          "traceback": [
            "\u001b[0;31m---------------------------------------------------------------------------\u001b[0m",
            "\u001b[0;31mModuleNotFoundError\u001b[0m                       Traceback (most recent call last)",
            "\u001b[0;32m<ipython-input-1-55a4924baefa>\u001b[0m in \u001b[0;36m<module>\u001b[0;34m()\u001b[0m\n\u001b[1;32m      4\u001b[0m \u001b[0;32mfrom\u001b[0m \u001b[0mimblearn\u001b[0m\u001b[0;34m.\u001b[0m\u001b[0mover_sampling\u001b[0m \u001b[0;32mimport\u001b[0m \u001b[0mSMOTE\u001b[0m\u001b[0;34m\u001b[0m\u001b[0;34m\u001b[0m\u001b[0m\n\u001b[1;32m      5\u001b[0m \u001b[0;32mfrom\u001b[0m \u001b[0msklearn\u001b[0m\u001b[0;34m.\u001b[0m\u001b[0mpreprocessing\u001b[0m \u001b[0;32mimport\u001b[0m  \u001b[0mOneHotEncoder\u001b[0m\u001b[0;34m\u001b[0m\u001b[0;34m\u001b[0m\u001b[0m\n\u001b[0;32m----> 6\u001b[0;31m \u001b[0;32mfrom\u001b[0m \u001b[0mcategory_encoders\u001b[0m \u001b[0;32mimport\u001b[0m \u001b[0mBinaryEncoder\u001b[0m\u001b[0;34m\u001b[0m\u001b[0;34m\u001b[0m\u001b[0m\n\u001b[0m\u001b[1;32m      7\u001b[0m \u001b[0;32mfrom\u001b[0m \u001b[0msklearn\u001b[0m \u001b[0;32mimport\u001b[0m \u001b[0mpreprocessing\u001b[0m\u001b[0;34m\u001b[0m\u001b[0;34m\u001b[0m\u001b[0m\n\u001b[1;32m      8\u001b[0m \u001b[0;32mfrom\u001b[0m \u001b[0msklearn\u001b[0m\u001b[0;34m.\u001b[0m\u001b[0mmetrics\u001b[0m \u001b[0;32mimport\u001b[0m \u001b[0mclassification_report\u001b[0m\u001b[0;34m\u001b[0m\u001b[0;34m\u001b[0m\u001b[0m\n",
            "\u001b[0;31mModuleNotFoundError\u001b[0m: No module named 'category_encoders'",
            "",
            "\u001b[0;31m---------------------------------------------------------------------------\u001b[0;32m\nNOTE: If your import is failing due to a missing package, you can\nmanually install dependencies using either !pip or !apt.\n\nTo view examples of installing some common dependencies, click the\n\"Open Examples\" button below.\n\u001b[0;31m---------------------------------------------------------------------------\u001b[0m\n"
          ]
        }
      ]
    },
    {
      "cell_type": "markdown",
      "metadata": {
        "id": "-avS-P_agl-X",
        "colab_type": "text"
      },
      "source": [
        "## Load test data and label"
      ]
    },
    {
      "cell_type": "code",
      "metadata": {
        "id": "_OgqFM7Ogl-c",
        "colab_type": "code",
        "colab": {}
      },
      "source": [
        "test_data = pd.read_csv('orange_small_test.data', sep = '\\t',header=None)\n",
        "test_appetency = pd.read_csv('orange_small_train_appetency_test.labels',header=None).astype('float')\n",
        "test_churn = pd.read_csv('orange_small_train_churn_test.labels',header=None).astype('float')\n",
        "test_upselling = pd.read_csv('orange_small_train_upselling_test.labels',header=None).astype('float')\n",
        "\n",
        "test_appetency.columns = ['appetency']\n",
        "test_churn.columns = ['churn']\n",
        "test_upselling.columns = ['upselling']\n",
        "test_churn = (test_churn + 1)/2\n",
        "test_upselling = (test_upselling + 1)/2\n",
        "test_appetency = (test_appetency + 1)/2"
      ],
      "execution_count": 0,
      "outputs": []
    },
    {
      "cell_type": "code",
      "metadata": {
        "id": "t1B9E56bgl-k",
        "colab_type": "code",
        "colab": {}
      },
      "source": [
        "#train_info_dic = {}\n",
        "with open('train_info_dic.pkl','rb') as f:\n",
        "    train_info_dic=pickle.load(f,encoding='bytes')\n",
        "\n",
        "test_data.columns = train_info_dic['orig_columns']\n",
        "test_data_drop_na = test_data.drop(train_info_dic['drop_list'],axis=1)\n",
        "test_data_light_gbm = test_data_drop_na.copy()\n",
        "category_columns = test_data_drop_na.select_dtypes(['object']).columns\n",
        "test_data_light_gbm[category_columns] = test_data_drop_na[category_columns].apply(lambda col: col.astype('category'))\n",
        "\n"
      ],
      "execution_count": 0,
      "outputs": []
    },
    {
      "cell_type": "code",
      "metadata": {
        "id": "vKo9nafigl-q",
        "colab_type": "code",
        "colab": {}
      },
      "source": [
        "category_columns = train_info_dic['category_columns']\n",
        "test_data_drop_na[category_columns] = test_data_drop_na[category_columns].apply(lambda col: col.astype('category'))\n",
        "\n",
        "test_data_drna_mean = test_data_drop_na.fillna(train_info_dic['train_data_mean'])\n",
        "\n",
        "test_data_drna_mean_scale = test_data_drna_mean\n",
        "numberic_columns_list = train_info_dic['numberic_columns']  \n",
        "std_scaler = train_info_dic['std_scaler'] \n",
        "test_data_drna_mean_scale[numberic_columns_list] = std_scaler.transform(test_data_drna_mean[numberic_columns_list])\n",
        "\n",
        "binary_encoder = train_info_dic['binary_encoder']\n",
        "test_data_drna_mean_scale_bin = binary_encoder.transform(test_data_drna_mean_scale)"
      ],
      "execution_count": 0,
      "outputs": []
    },
    {
      "cell_type": "code",
      "metadata": {
        "id": "Hrljwrhxgl-x",
        "colab_type": "code",
        "colab": {},
        "outputId": "fb930988-b4fa-45a5-c341-a0163656647d"
      },
      "source": [
        "'''\n",
        "imp = train_info_dic['imp']\n",
        "numberic_columns = test_data_drop_na.select_dtypes(exclude=['category']).columns\n",
        "test_data_drop_na_imputed = imp.transform(test_data_drop_na[numberic_columns])\n",
        "test_data_drop_na[numberic_columns] = pd.DataFrame(test_data_drop_na_imputed)\n",
        "test_data_drna_mean = test_data_drop_na\n",
        "'''"
      ],
      "execution_count": 0,
      "outputs": [
        {
          "output_type": "execute_result",
          "data": {
            "text/plain": [
              "\"\\nimp = train_info_dic['imp']\\nnumberic_columns = test_data_drop_na.select_dtypes(exclude=['category']).columns\\ntest_data_drop_na_imputed = imp.transform(test_data_drop_na[numberic_columns])\\ntest_data_drop_na[numberic_columns] = pd.DataFrame(test_data_drop_na_imputed)\\ntest_data_drna_mean = test_data_drop_na\\n\""
            ]
          },
          "metadata": {
            "tags": []
          },
          "execution_count": 25
        }
      ]
    },
    {
      "cell_type": "code",
      "metadata": {
        "id": "8AKcBEzwgl-5",
        "colab_type": "code",
        "colab": {},
        "outputId": "60500fbd-a564-4f57-e11a-bc9b4986dada"
      },
      "source": [
        "model_rf_appetency = joblib.load(\"random_forest_appetency.model\")\n",
        "result_rf_appetency = model_rf_appetency.predict(test_data_drna_mean_scale_bin)\n",
        "print(classification_report(test_appetency,result_rf_appetency))"
      ],
      "execution_count": 0,
      "outputs": [
        {
          "output_type": "stream",
          "text": [
            "              precision    recall  f1-score   support\n",
            "\n",
            "         0.0       0.99      0.96      0.97     24548\n",
            "         1.0       0.11      0.25      0.15       452\n",
            "\n",
            "    accuracy                           0.95     25000\n",
            "   macro avg       0.55      0.61      0.56     25000\n",
            "weighted avg       0.97      0.95      0.96     25000\n",
            "\n"
          ],
          "name": "stdout"
        }
      ]
    },
    {
      "cell_type": "code",
      "metadata": {
        "id": "furs1kY2gl-_",
        "colab_type": "code",
        "colab": {},
        "outputId": "072e9cec-ba35-41b0-f31c-2c5a0217fb26"
      },
      "source": [
        "\n",
        "model_rf_churn = joblib.load(\"random_forest_churn.model\")\n",
        "result_rf_churn = model_rf_churn.predict(test_data_drna_mean_scale_bin)\n",
        "print(classification_report(test_churn,result_rf_churn))"
      ],
      "execution_count": 0,
      "outputs": [
        {
          "output_type": "stream",
          "text": [
            "              precision    recall  f1-score   support\n",
            "\n",
            "         0.0       0.95      0.80      0.87     23165\n",
            "         1.0       0.16      0.46      0.24      1835\n",
            "\n",
            "    accuracy                           0.78     25000\n",
            "   macro avg       0.55      0.63      0.55     25000\n",
            "weighted avg       0.89      0.78      0.82     25000\n",
            "\n"
          ],
          "name": "stdout"
        }
      ]
    },
    {
      "cell_type": "code",
      "metadata": {
        "scrolled": true,
        "id": "ECAlqx1Kgl_I",
        "colab_type": "code",
        "colab": {},
        "outputId": "027ac328-c8b7-4b4f-8f47-b3dea645b2b1"
      },
      "source": [
        "model_rf_upselling = joblib.load(\"random_forest_upselling.model\")\n",
        "result_rf_upselling = model_rf_upselling.predict(test_data_drna_mean_scale_bin)\n",
        "print(classification_report(test_upselling,result_rf_upselling))"
      ],
      "execution_count": 0,
      "outputs": [
        {
          "output_type": "stream",
          "text": [
            "              precision    recall  f1-score   support\n",
            "\n",
            "         0.0       0.96      0.99      0.97     23181\n",
            "         1.0       0.77      0.47      0.58      1819\n",
            "\n",
            "    accuracy                           0.95     25000\n",
            "   macro avg       0.86      0.73      0.78     25000\n",
            "weighted avg       0.95      0.95      0.95     25000\n",
            "\n"
          ],
          "name": "stdout"
        }
      ]
    },
    {
      "cell_type": "code",
      "metadata": {
        "scrolled": false,
        "id": "Dt45k3bbgl_P",
        "colab_type": "code",
        "colab": {},
        "outputId": "56c1bbb8-7121-4b67-886d-80a66016bc17"
      },
      "source": [
        "model_lightgbm_appetency = joblib.load(\"light_gbm_appetency.model\")\n",
        "result_lgb_appetency = model_lightgbm_appetency.predict(test_data_light_gbm)\n",
        "print(classification_report(test_appetency,result_lgb_appetency))"
      ],
      "execution_count": 0,
      "outputs": [
        {
          "output_type": "stream",
          "text": [
            "              precision    recall  f1-score   support\n",
            "\n",
            "         0.0       0.99      0.97      0.98     24548\n",
            "         1.0       0.12      0.23      0.16       452\n",
            "\n",
            "    accuracy                           0.95     25000\n",
            "   macro avg       0.55      0.60      0.57     25000\n",
            "weighted avg       0.97      0.95      0.96     25000\n",
            "\n"
          ],
          "name": "stdout"
        }
      ]
    },
    {
      "cell_type": "code",
      "metadata": {
        "scrolled": true,
        "id": "UCJs_EZEgl_W",
        "colab_type": "code",
        "colab": {},
        "outputId": "43658b1c-8837-4de1-b216-9d6aac25fa8a"
      },
      "source": [
        "model_lightgbm_churn = joblib.load(\"light_gbm_churn.model\")\n",
        "result_lgb_churn = model_lightgbm_churn.predict(test_data_light_gbm)\n",
        "print(classification_report(test_churn,result_lgb_churn))"
      ],
      "execution_count": 0,
      "outputs": [
        {
          "output_type": "stream",
          "text": [
            "              precision    recall  f1-score   support\n",
            "\n",
            "         0.0       0.94      0.94      0.94     23165\n",
            "         1.0       0.21      0.20      0.20      1835\n",
            "\n",
            "    accuracy                           0.88     25000\n",
            "   macro avg       0.57      0.57      0.57     25000\n",
            "weighted avg       0.88      0.88      0.88     25000\n",
            "\n"
          ],
          "name": "stdout"
        }
      ]
    },
    {
      "cell_type": "code",
      "metadata": {
        "id": "Dh18e9txgl_h",
        "colab_type": "code",
        "colab": {},
        "outputId": "b1664cf5-1945-49ce-ee69-df7add3ca15a"
      },
      "source": [
        "model_lightgbm_upselling = joblib.load(\"light_gbm_upselling.model\")\n",
        "result_lgb_upselling = model_lightgbm_upselling.predict(test_data_light_gbm)\n",
        "print(classification_report(test_upselling,result_lgb_upselling))"
      ],
      "execution_count": 0,
      "outputs": [
        {
          "output_type": "stream",
          "text": [
            "              precision    recall  f1-score   support\n",
            "\n",
            "         0.0       0.93      0.97      0.95     23165\n",
            "         1.0       0.24      0.12      0.16      1835\n",
            "\n",
            "    accuracy                           0.91     25000\n",
            "   macro avg       0.59      0.54      0.55     25000\n",
            "weighted avg       0.88      0.91      0.89     25000\n",
            "\n",
            "              precision    recall  f1-score   support\n",
            "\n",
            "         0.0       0.96      0.98      0.97     23181\n",
            "         1.0       0.62      0.48      0.54      1819\n",
            "\n",
            "    accuracy                           0.94     25000\n",
            "   macro avg       0.79      0.73      0.75     25000\n",
            "weighted avg       0.93      0.94      0.94     25000\n",
            "\n"
          ],
          "name": "stdout"
        }
      ]
    },
    {
      "cell_type": "code",
      "metadata": {
        "id": "Ym0sr76Vgl_q",
        "colab_type": "code",
        "colab": {}
      },
      "source": [
        "result_new = result_rf + result_lgb"
      ],
      "execution_count": 0,
      "outputs": []
    },
    {
      "cell_type": "code",
      "metadata": {
        "scrolled": true,
        "id": "A3473ttTgl_v",
        "colab_type": "code",
        "colab": {}
      },
      "source": [
        "result_new[result_new==2].shape"
      ],
      "execution_count": 0,
      "outputs": []
    },
    {
      "cell_type": "code",
      "metadata": {
        "id": "HdBoCtK-gl_0",
        "colab_type": "code",
        "colab": {}
      },
      "source": [
        "result_new[result_new==1].shape"
      ],
      "execution_count": 0,
      "outputs": []
    },
    {
      "cell_type": "code",
      "metadata": {
        "id": "9lsxNXGAgl_4",
        "colab_type": "code",
        "colab": {}
      },
      "source": [
        "def covert_result(x):\n",
        "    if x>=2:\n",
        "        x=1\n",
        "    else:\n",
        "        x=0\n",
        "    return x"
      ],
      "execution_count": 0,
      "outputs": []
    },
    {
      "cell_type": "code",
      "metadata": {
        "id": "AqStN3jCgl_-",
        "colab_type": "code",
        "colab": {}
      },
      "source": [
        "vec_covert_result = np.vectorize(covert_result)"
      ],
      "execution_count": 0,
      "outputs": []
    },
    {
      "cell_type": "code",
      "metadata": {
        "id": "6LU6MJX6gmAC",
        "colab_type": "code",
        "colab": {}
      },
      "source": [
        "vec_result = vec_covert_result(result_new)"
      ],
      "execution_count": 0,
      "outputs": []
    },
    {
      "cell_type": "code",
      "metadata": {
        "id": "tfs2WllmgmAI",
        "colab_type": "code",
        "colab": {}
      },
      "source": [
        "print(classification_report(test_appetency,vec_result))"
      ],
      "execution_count": 0,
      "outputs": []
    }
  ]
}