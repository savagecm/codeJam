{
 "cells": [
  {
   "cell_type": "code",
   "execution_count": 39,
   "metadata": {
    "scrolled": false
   },
   "outputs": [],
   "source": [
    "\n",
    "import pandas as pd\n",
    "from sklearn.model_selection import GridSearchCV, train_test_split\n",
    "from sklearn.metrics import log_loss, mean_squared_error, accuracy_score\n",
    "from sklearn.metrics import classification_report\n",
    "from sklearn import metrics\n",
    "from sklearn import preprocessing\n",
    "from sklearn.utils import shuffle\n",
    "from category_encoders import BinaryEncoder\n",
    "from sklearn import preprocessing\n",
    "from sklearn.utils import resample\n",
    "\n",
    "from sklearn.ensemble import RandomForestClassifier\n",
    "import lightgbm as lgb\n",
    "from sklearn.model_selection import GridSearchCV\n",
    "\n",
    "import joblib\n",
    "import pickle"
   ]
  },
  {
   "cell_type": "markdown",
   "metadata": {},
   "source": [
    "# 1. DATA pre-prosessing part"
   ]
  },
  {
   "cell_type": "markdown",
   "metadata": {},
   "source": [
    "####  1.1    Load training data and labels"
   ]
  },
  {
   "cell_type": "code",
   "execution_count": 40,
   "metadata": {
    "scrolled": true
   },
   "outputs": [],
   "source": [
    "train_data = pd.read_csv('orange_small_train.data', sep = '\\t')\n",
    "appetency = pd.read_csv('orange_small_train_appetency_train.labels',header=None).astype('float')\n",
    "churn = pd.read_csv('orange_small_train_churn_train.labels', header=None).astype('float')\n",
    "upselling = pd.read_csv('orange_small_train_upselling_train.labels',header=None).astype('float')\n",
    "\n",
    "appetency.columns = ['appetency']\n",
    "churn.columns = ['churn']\n",
    "upselling.columns = ['upselling']\n",
    "churn = (churn + 1)/2\n",
    "upselling = (upselling + 1)/2\n",
    "appetency = (appetency + 1)/2"
   ]
  },
  {
   "cell_type": "markdown",
   "metadata": {},
   "source": [
    "#### 1.2     Dictionary to save the info used by test.py"
   ]
  },
  {
   "cell_type": "code",
   "execution_count": 41,
   "metadata": {},
   "outputs": [],
   "source": [
    "train_info_dic={}\n",
    "train_info_dic['orig_columns']=train_data.columns"
   ]
  },
  {
   "cell_type": "markdown",
   "metadata": {},
   "source": [
    "#### 1.3 Drop the columns all with nan"
   ]
  },
  {
   "cell_type": "code",
   "execution_count": 42,
   "metadata": {
    "scrolled": true
   },
   "outputs": [],
   "source": [
    "column_names = train_data.columns #all rows has at least one feature...\n",
    "drop_list = [x for x in column_names if len([ y for y in train_data.loc[:,x].isna() if y == True]) == train_data.shape[0]]\n",
    "train_data_drop_na = train_data.drop(drop_list,axis=1)\n",
    "train_info_dic['drop_list'] = drop_list"
   ]
  },
  {
   "cell_type": "markdown",
   "metadata": {},
   "source": [
    "#### 1.4 Convert object --> category "
   ]
  },
  {
   "cell_type": "code",
   "execution_count": 43,
   "metadata": {},
   "outputs": [],
   "source": [
    "category_columns = train_data_drop_na.select_dtypes(['object']).columns\n",
    "train_data_drop_na[category_columns] = train_data_drop_na[category_columns].apply(lambda col: col.astype('category'))\n",
    "numberic_columns = train_data_drop_na.select_dtypes(exclude=['category']).columns"
   ]
  },
  {
   "cell_type": "markdown",
   "metadata": {},
   "source": [
    "#### 1.5 For numberic columns whose categories num less than 5, treat it as category type"
   ]
  },
  {
   "cell_type": "code",
   "execution_count": 44,
   "metadata": {},
   "outputs": [],
   "source": [
    "num_to_categorical=[]\n",
    "for col in numberic_columns:\n",
    "    if len(train_data_drop_na[col].value_counts().to_dict()) < 5:\n",
    "        num_to_categorical.append(col)\n",
    "train_info_dic['num_to_categorical'] = num_to_categorical\n",
    "train_data_drna_nu2ca = train_data_drop_na.copy()\n",
    "train_data_drna_nu2ca[num_to_categorical]=train_data_drop_na[num_to_categorical].apply(lambda col: col.astype('category'))\n",
    "category_columns_list = category_columns.tolist()\n",
    "numberic_columns_list = numberic_columns.tolist()\n",
    "category_columns_list += num_to_categorical\n",
    "numberic_columns_list = [col for col in numberic_columns_list if col not in num_to_categorical]\n",
    "train_info_dic['category_columns'] = category_columns_list\n",
    "train_info_dic['numberic_columns'] = numberic_columns_list"
   ]
  },
  {
   "cell_type": "code",
   "execution_count": 45,
   "metadata": {},
   "outputs": [],
   "source": [
    "#### impute data with the nearest ones, not good."
   ]
  },
  {
   "cell_type": "code",
   "execution_count": 46,
   "metadata": {},
   "outputs": [
    {
     "data": {
      "text/plain": [
       "\"\\nimport numpy as np\\nfrom sklearn.experimental import enable_iterative_imputer\\nfrom sklearn.impute import IterativeImputer\\nimp = IterativeImputer(max_iter=5, random_state=0)\\nimp.fit(train_data_drop_na[numberic_columns])  \\ntrain_data_drop_na_imputed = imp.transform(train_data_drop_na[numberic_columns])\\ntrain_data_drop_na[numberic_columns] = pd.DataFrame(train_data_drop_na_imputed)\\ntrain_data_drna_mean = train_data_drop_na\\ntrain_info_dic['imp'] = imp\\n\""
      ]
     },
     "execution_count": 46,
     "metadata": {},
     "output_type": "execute_result"
    }
   ],
   "source": [
    "'''\n",
    "import numpy as np\n",
    "from sklearn.experimental import enable_iterative_imputer\n",
    "from sklearn.impute import IterativeImputer\n",
    "imp = IterativeImputer(max_iter=5, random_state=0)\n",
    "imp.fit(train_data_drop_na[numberic_columns])  \n",
    "train_data_drop_na_imputed = imp.transform(train_data_drop_na[numberic_columns])\n",
    "train_data_drop_na[numberic_columns] = pd.DataFrame(train_data_drop_na_imputed)\n",
    "train_data_drna_mean = train_data_drop_na\n",
    "train_info_dic['imp'] = imp\n",
    "'''"
   ]
  },
  {
   "cell_type": "markdown",
   "metadata": {},
   "source": [
    "#### 1.4 Handle numberic value"
   ]
  },
  {
   "cell_type": "markdown",
   "metadata": {},
   "source": [
    "#### 1.4.1 fill with mean"
   ]
  },
  {
   "cell_type": "code",
   "execution_count": 47,
   "metadata": {
    "scrolled": false
   },
   "outputs": [],
   "source": [
    "train_data_drna_nu2ca_mean = train_data_drna_nu2ca\n",
    "train_data_drna_nu2ca_mean[numberic_columns_list] = train_data_drna_nu2ca[numberic_columns_list].fillna(train_data_drna_nu2ca[numberic_columns_list].mean())\n",
    "train_info_dic['train_data_mean'] = train_data_drna_nu2ca[numberic_columns_list].mean()"
   ]
  },
  {
   "cell_type": "markdown",
   "metadata": {},
   "source": [
    "#### 1.6 Scale"
   ]
  },
  {
   "cell_type": "code",
   "execution_count": 48,
   "metadata": {
    "scrolled": false
   },
   "outputs": [],
   "source": [
    "\n",
    "train_data_drna_nu2ca_mean_scale = train_data_drna_nu2ca_mean\n",
    "std_scaler = preprocessing.StandardScaler().fit(train_data_drna_nu2ca_mean[numberic_columns_list])\n",
    "train_data_drna_nu2ca_mean_scale[numberic_columns_list] = std_scaler.transform(train_data_drna_nu2ca_mean[numberic_columns_list])\n",
    "train_info_dic['std_scaler'] = std_scaler"
   ]
  },
  {
   "cell_type": "markdown",
   "metadata": {},
   "source": [
    "#### 1.5 Handle category columns"
   ]
  },
  {
   "cell_type": "markdown",
   "metadata": {},
   "source": [
    "##### 1.5.1 Binary encoding"
   ]
  },
  {
   "cell_type": "code",
   "execution_count": 49,
   "metadata": {},
   "outputs": [],
   "source": [
    "binary_encoder = BinaryEncoder(cols=category_columns_list)\n",
    "train_data_drna_nu2ca_mean_scale_bin  = binary_encoder.fit_transform(train_data_drna_nu2ca_mean_scale)\n",
    "train_info_dic['binary_encoder'] = binary_encoder"
   ]
  },
  {
   "cell_type": "markdown",
   "metadata": {},
   "source": [
    "#### 1.7 Save training info"
   ]
  },
  {
   "cell_type": "code",
   "execution_count": 50,
   "metadata": {},
   "outputs": [],
   "source": [
    "with open('train_info_dic.pkl','wb') as f:\n",
    "    pickle.dump(train_info_dic,f)"
   ]
  },
  {
   "cell_type": "markdown",
   "metadata": {},
   "source": [
    "#### 1.8  Resample"
   ]
  },
  {
   "cell_type": "code",
   "execution_count": 51,
   "metadata": {
    "scrolled": false
   },
   "outputs": [
    {
     "data": {
      "text/plain": [
       "<BarContainer object of 2 artists>"
      ]
     },
     "execution_count": 51,
     "metadata": {},
     "output_type": "execute_result"
    },
    {
     "data": {
      "image/png": "[encoded data removed]",
      "text/plain": [
       "<Figure size 1080x432 with 3 Axes>"
      ]
     },
     "metadata": {
      "needs_background": "light"
     },
     "output_type": "display_data"
    }
   ],
   "source": [
    "import matplotlib.pyplot as plt\n",
    "%matplotlib inline\n",
    "fig = plt.figure(1,figsize=(15,6))\n",
    "plt.subplot(131)\n",
    "plt.title(\"appetency\")\n",
    "plt.bar([0,1],[len(appetency[appetency.appetency <= 0]),len(appetency[appetency.appetency > 0])])\n",
    "plt.subplot(132)\n",
    "plt.title(\"churn\")\n",
    "plt.bar([0,1],[len(appetency[churn.churn <= 0]),len(appetency[churn.churn > 0])])\n",
    "plt.subplot(133)\n",
    "plt.title(\"upselling\")\n",
    "plt.bar([0,1],[len(appetency[upselling.upselling <= 0]),len(appetency[upselling.upselling > 0])])"
   ]
  },
  {
   "cell_type": "code",
   "execution_count": 52,
   "metadata": {},
   "outputs": [],
   "source": [
    "##### Random Up sampling , not good\n",
    "##### SMOTE, not good\n",
    "##### Choose random downsampling\n",
    "\n",
    "RANDOM_SEED = 320\n",
    "train_data_drna_nu2ca_mean_scale_bin_pd = pd.DataFrame(train_data_drna_nu2ca_mean_scale_bin)\n",
    "processed_train_data_with_appetency = pd.concat([train_data_drna_nu2ca_mean_scale_bin_pd,appetency],axis=1)\n",
    "df_maj_with_appetency = processed_train_data_with_appetency[processed_train_data_with_appetency.appetency==0]\n",
    "df_min_with_appetency = processed_train_data_with_appetency[processed_train_data_with_appetency.appetency==1]\n",
    "df_maj_downsampled_appetency = resample(df_maj_with_appetency, replace=True, n_samples=df_min_with_appetency .shape[0]*10, random_state=RANDOM_SEED) # reproducible resultsRANDOM_SEED\n",
    "df_downsampled_appetency = pd.concat([df_min_with_appetency, df_maj_downsampled_appetency])\n",
    "df_downsampled_shuffled_appetency =shuffle(df_downsampled_appetency)\n",
    "df_X_appetency = df_downsampled_shuffled_appetency.drop(['appetency'],axis=1)\n",
    "df_y_appetency = df_downsampled_shuffled_appetency['appetency']"
   ]
  },
  {
   "cell_type": "code",
   "execution_count": 53,
   "metadata": {},
   "outputs": [],
   "source": [
    "\n",
    "train_data_drna_nu2ca_mean_scale_bin_pd = pd.DataFrame(train_data_drna_nu2ca_mean_scale_bin)\n",
    "processed_train_data_with_churn = pd.concat([train_data_drna_nu2ca_mean_scale_bin_pd,churn],axis=1)\n",
    "df_maj_with_churn = processed_train_data_with_churn[processed_train_data_with_churn.churn==0]\n",
    "df_min_with_churn = processed_train_data_with_churn[processed_train_data_with_churn.churn==1]\n",
    "df_maj_downsampled_churn = resample(df_maj_with_churn, replace=True, n_samples=df_min_with_churn .shape[0]*10, random_state=RANDOM_SEED) # reproducible resultsRANDOM_SEED\n",
    "df_downsampled_churn = pd.concat([df_min_with_churn, df_maj_downsampled_churn])\n",
    "df_downsampled_shuffled_churn =shuffle(df_downsampled_churn)\n",
    "df_X_churn = df_downsampled_shuffled_churn.drop(['churn'],axis=1)\n",
    "df_y_churn = df_downsampled_shuffled_churn['churn']\n"
   ]
  },
  {
   "cell_type": "code",
   "execution_count": 54,
   "metadata": {},
   "outputs": [],
   "source": [
    "\n",
    "\n",
    "train_data_drna_nu2ca_mean_scale_bin_pd = pd.DataFrame(train_data_drna_nu2ca_mean_scale_bin)\n",
    "processed_train_data_with_upselling = pd.concat([train_data_drna_nu2ca_mean_scale_bin_pd,upselling],axis=1)\n",
    "df_maj_with_upselling = processed_train_data_with_upselling[processed_train_data_with_upselling.upselling==0]\n",
    "df_min_with_upselling = processed_train_data_with_upselling[processed_train_data_with_upselling.upselling==1]\n",
    "df_maj_downsampled_upselling = resample(df_maj_with_upselling, replace=True, n_samples=df_min_with_upselling .shape[0]*10, random_state=RANDOM_SEED) # reproducible resultsRANDOM_SEED\n",
    "df_downsampled_upselling = pd.concat([df_min_with_upselling, df_maj_downsampled_upselling])\n",
    "df_downsampled_shuffled_upselling =shuffle(df_downsampled_upselling)\n",
    "df_X_upselling = df_downsampled_shuffled_upselling.drop(['upselling'],axis=1)\n",
    "df_y_upselling = df_downsampled_shuffled_upselling['upselling']"
   ]
  },
  {
   "cell_type": "markdown",
   "metadata": {},
   "source": [
    "#### Resample for lightgbm"
   ]
  },
  {
   "cell_type": "code",
   "execution_count": 55,
   "metadata": {},
   "outputs": [
    {
     "data": {
      "text/plain": [
       "Index(['Var191', 'Var192', 'Var193', 'Var194', 'Var195', 'Var196', 'Var197',\n",
       "       'Var198', 'Var199', 'Var200', 'Var201', 'Var202', 'Var203', 'Var204',\n",
       "       'Var205', 'Var206', 'Var207', 'Var208', 'Var210', 'Var211', 'Var212',\n",
       "       'Var213', 'Var214', 'Var215', 'Var216', 'Var217', 'Var218', 'Var219',\n",
       "       'Var220', 'Var221', 'Var222', 'Var223', 'Var224', 'Var225', 'Var226',\n",
       "       'Var227', 'Var228', 'Var229'],\n",
       "      dtype='object')"
      ]
     },
     "execution_count": 55,
     "metadata": {},
     "output_type": "execute_result"
    }
   ],
   "source": [
    "train_data_drop_na.select_dtypes(['category']).columns"
   ]
  },
  {
   "cell_type": "code",
   "execution_count": 56,
   "metadata": {},
   "outputs": [],
   "source": [
    "train_data_drop_na_pd = pd.DataFrame(train_data_drop_na)\n",
    "processed_train_data_lightgbm_with_appetency = pd.concat([train_data_drop_na_pd,appetency],axis=1)\n",
    "df_maj_lightgbm_with_appetency = processed_train_data_lightgbm_with_appetency[processed_train_data_lightgbm_with_appetency.appetency==0]\n",
    "df_min_lightgbm_with_appetency = processed_train_data_lightgbm_with_appetency[processed_train_data_lightgbm_with_appetency.appetency==1]\n",
    "df_maj_lightgbm_downsampled_appetency = resample(df_maj_lightgbm_with_appetency, replace=True, n_samples=df_min_lightgbm_with_appetency .shape[0]*10, random_state=RANDOM_SEED) # reproducible resultsRANDOM_SEED\n",
    "df_downsampled_lightgbm_appetency = pd.concat([df_min_lightgbm_with_appetency, df_maj_lightgbm_downsampled_appetency])\n",
    "df_downsampled_lightgbm_shuffled_appetency =shuffle(df_downsampled_lightgbm_appetency)\n",
    "df_X_lightgbm_appetency = df_downsampled_lightgbm_shuffled_appetency.drop(['appetency'],axis=1)\n",
    "df_y_lightgbm_appetency = df_downsampled_lightgbm_shuffled_appetency['appetency']"
   ]
  },
  {
   "cell_type": "code",
   "execution_count": 87,
   "metadata": {},
   "outputs": [],
   "source": [
    "train_data_drop_na_pd = pd.DataFrame(train_data_drop_na)\n",
    "processed_train_data_lightgbm_with_churn = pd.concat([train_data_drop_na_pd,churn],axis=1)\n",
    "df_maj_lightgbm_with_churn = processed_train_data_lightgbm_with_churn[processed_train_data_lightgbm_with_churn.churn==0]\n",
    "df_min_lightgbm_with_churn = processed_train_data_lightgbm_with_churn[processed_train_data_lightgbm_with_churn.churn==1]\n",
    "df_maj_lightgbm_downsampled_churn = resample(df_maj_lightgbm_with_churn, replace=True, n_samples=df_min_lightgbm_with_churn .shape[0]*5, random_state=RANDOM_SEED) # reproducible resultsRANDOM_SEED\n",
    "df_downsampled_lightgbm_churn = pd.concat([df_min_lightgbm_with_churn, df_maj_lightgbm_downsampled_churn])\n",
    "df_downsampled_lightgbm_shuffled_churn =shuffle(df_downsampled_lightgbm_churn)\n",
    "df_X_lightgbm_churn = df_downsampled_lightgbm_shuffled_churn.drop(['churn'],axis=1)\n",
    "df_y_lightgbm_churn = df_downsampled_lightgbm_shuffled_churn['churn']"
   ]
  },
  {
   "cell_type": "code",
   "execution_count": 58,
   "metadata": {},
   "outputs": [],
   "source": [
    "train_data_drop_na_pd = pd.DataFrame(train_data_drop_na)\n",
    "processed_train_data_lightgbm_with_upselling = pd.concat([train_data_drop_na_pd,upselling],axis=1)\n",
    "df_maj_lightgbm_with_upselling = processed_train_data_lightgbm_with_upselling[processed_train_data_lightgbm_with_upselling.upselling==0]\n",
    "df_min_lightgbm_with_upselling = processed_train_data_lightgbm_with_upselling[processed_train_data_lightgbm_with_upselling.upselling==1]\n",
    "df_maj_lightgbm_downsampled_upselling = resample(df_maj_lightgbm_with_upselling, replace=True, n_samples=df_min_lightgbm_with_upselling .shape[0]*10, random_state=RANDOM_SEED) # reproducible resultsRANDOM_SEED\n",
    "df_downsampled_lightgbm_upselling = pd.concat([df_min_lightgbm_with_upselling, df_maj_lightgbm_downsampled_upselling])\n",
    "df_downsampled_lightgbm_shuffled_upselling =shuffle(df_downsampled_lightgbm_upselling)\n",
    "df_X_lightgbm_upselling = df_downsampled_lightgbm_shuffled_upselling.drop(['upselling'],axis=1)\n",
    "df_y_lightgbm_upselling = df_downsampled_lightgbm_shuffled_upselling['upselling']"
   ]
  },
  {
   "cell_type": "markdown",
   "metadata": {},
   "source": [
    "## 2 Model training part"
   ]
  },
  {
   "cell_type": "markdown",
   "metadata": {},
   "source": [
    "### 2.1 Random forest"
   ]
  },
  {
   "cell_type": "markdown",
   "metadata": {},
   "source": [
    "##### 2.1.1 Grid search to get the best parameters"
   ]
  },
  {
   "cell_type": "code",
   "execution_count": 60,
   "metadata": {},
   "outputs": [
    {
     "data": {
      "text/plain": [
       "\"\\nparam_test1 = {'n_estimators':range(10,20,2)}\\ngsearch1 = GridSearchCV(estimator = RandomForestClassifier(min_samples_split=100,\\n                         min_samples_leaf=40,max_depth=10,max_features='sqrt',\\n                        random_state=10,class_weight='balanced_subsample'), \\n                        param_grid = param_test1, scoring='roc_auc',cv=5,n_jobs=8)\\ngsearch1.fit(df_X,df_y)\\ngsearch1.best_params_, gsearch1.best_score_ \\nbest_n_estimators = gsearch1.best_params_['n_estimators']\\n\\n\\n\\nparam_test2 = {'max_depth':range(3,8,1), 'min_samples_split':range(50,110,20)} #range(50,110,20\\ngsearch2 = GridSearchCV(estimator = RandomForestClassifier(n_estimators= best_n_estimators, \\n                                 min_samples_leaf=30,max_features='sqrt',random_state=10,class_weight='balanced_subsample'),\\nparam_grid = param_test2, scoring='roc_auc',iid=False, cv=5,n_jobs=8)\\ngsearch2.fit(df_X,df_y)\\nbest_max_depth = gsearch2.best_params_['max_depth']\\n\\n\\n\\nparam_test3 = {'min_samples_split':range(80,150,20), 'min_samples_leaf':range(10,60,10)}\\ngsearch3 = GridSearchCV(estimator = RandomForestClassifier(n_estimators= best_n_estimators, max_depth=best_max_depth,\\n                                  max_features='sqrt' ,oob_score=True, random_state=10,class_weight='balanced_subsample'),\\n                                   param_grid = param_test3, scoring='roc_auc',iid=False, cv=5)\\ngsearch3.fit(df_X,df_y)\\nbest_min_samples_leaf = gsearch3.best_params_['min_samples_leaf']\\nbest_min_samples_split = gsearch3.best_params_['min_samples_split']\\n\\n\\n\\nparam_test4 = {'max_features':range(7,15,2)}\\ngsearch4 = GridSearchCV(estimator = RandomForestClassifier(n_estimators= best_n_estimators, max_depth=best_max_depth, min_samples_split= best_min_samples_split,\\n                                  min_samples_leaf=best_min_samples_leaf ,oob_score=True, random_state=10,class_weight='balanced_subsample'), param_grid = param_test4, scoring='roc_auc',iid=False, cv=5,n_jobs=8)\\ngsearch4.fit(df_X,df_y)\\nbest_max_features = gsearch4.best_params_['max_features']\\n\""
      ]
     },
     "execution_count": 60,
     "metadata": {},
     "output_type": "execute_result"
    }
   ],
   "source": [
    "\n",
    "\n",
    "'''\n",
    "param_test1 = {'n_estimators':range(10,20,2)}\n",
    "gsearch1 = GridSearchCV(estimator = RandomForestClassifier(min_samples_split=100,\n",
    "                         min_samples_leaf=40,max_depth=10,max_features='sqrt',\n",
    "                        random_state=10,class_weight='balanced_subsample'), \n",
    "                        param_grid = param_test1, scoring='roc_auc',cv=5,n_jobs=8)\n",
    "gsearch1.fit(df_X,df_y)\n",
    "gsearch1.best_params_, gsearch1.best_score_ \n",
    "best_n_estimators = gsearch1.best_params_['n_estimators']\n",
    "\n",
    "\n",
    "\n",
    "param_test2 = {'max_depth':range(3,8,1), 'min_samples_split':range(50,110,20)} #range(50,110,20\n",
    "gsearch2 = GridSearchCV(estimator = RandomForestClassifier(n_estimators= best_n_estimators, \n",
    "                                 min_samples_leaf=30,max_features='sqrt',random_state=10,class_weight='balanced_subsample'),\n",
    "param_grid = param_test2, scoring='roc_auc',iid=False, cv=5,n_jobs=8)\n",
    "gsearch2.fit(df_X,df_y)\n",
    "best_max_depth = gsearch2.best_params_['max_depth']\n",
    "\n",
    "\n",
    "\n",
    "param_test3 = {'min_samples_split':range(80,150,20), 'min_samples_leaf':range(10,60,10)}\n",
    "gsearch3 = GridSearchCV(estimator = RandomForestClassifier(n_estimators= best_n_estimators, max_depth=best_max_depth,\n",
    "                                  max_features='sqrt' ,oob_score=True, random_state=10,class_weight='balanced_subsample'),\n",
    "                                   param_grid = param_test3, scoring='roc_auc',iid=False, cv=5)\n",
    "gsearch3.fit(df_X,df_y)\n",
    "best_min_samples_leaf = gsearch3.best_params_['min_samples_leaf']\n",
    "best_min_samples_split = gsearch3.best_params_['min_samples_split']\n",
    "\n",
    "\n",
    "\n",
    "param_test4 = {'max_features':range(7,15,2)}\n",
    "gsearch4 = GridSearchCV(estimator = RandomForestClassifier(n_estimators= best_n_estimators, max_depth=best_max_depth, min_samples_split= best_min_samples_split,\n",
    "                                  min_samples_leaf=best_min_samples_leaf ,oob_score=True, random_state=10,class_weight='balanced_subsample'), param_grid = param_test4, scoring='roc_auc',iid=False, cv=5,n_jobs=8)\n",
    "gsearch4.fit(df_X,df_y)\n",
    "best_max_features = gsearch4.best_params_['max_features']\n",
    "'''"
   ]
  },
  {
   "cell_type": "markdown",
   "metadata": {},
   "source": [
    "#### 2.1.2  train RF"
   ]
  },
  {
   "cell_type": "code",
   "execution_count": 61,
   "metadata": {},
   "outputs": [
    {
     "data": {
      "text/plain": [
       "'\\nmodel_rf = RandomForestClassifier(n_estimators= best_n_estimators, max_depth=best_max_depth, min_samples_split= 90,\\n                                  min_samples_leaf=best_min_samples_leaf, max_features =best_max_features, random_state=10, class_weight=\\'balanced_subsample\\')#class_weight=\\'balanced\\')\\nmodel_rf.fit(df_X_appetency,df_y)\\njoblib.dump(model_rf,\"random_forest.model\")\\n'"
      ]
     },
     "execution_count": 61,
     "metadata": {},
     "output_type": "execute_result"
    }
   ],
   "source": [
    "'''\n",
    "model_rf = RandomForestClassifier(n_estimators= best_n_estimators, max_depth=best_max_depth, min_samples_split= 90,\n",
    "                                  min_samples_leaf=best_min_samples_leaf, max_features =best_max_features, random_state=10, class_weight='balanced_subsample')#class_weight='balanced')\n",
    "model_rf.fit(df_X_appetency,df_y)\n",
    "joblib.dump(model_rf,\"random_forest.model\")\n",
    "'''"
   ]
  },
  {
   "cell_type": "code",
   "execution_count": 62,
   "metadata": {},
   "outputs": [
    {
     "data": {
      "text/plain": [
       "['random_forest_appetency.model']"
      ]
     },
     "execution_count": 62,
     "metadata": {},
     "output_type": "execute_result"
    }
   ],
   "source": [
    "model_rf = RandomForestClassifier(n_estimators=600,class_weight='balanced',max_depth = 30, max_features = 0.3 ,min_samples_split=10, min_samples_leaf=5,n_jobs=8)\n",
    "model_rf.fit(df_X_appetency,df_y_appetency)\n",
    "joblib.dump(model_rf,\"random_forest_appetency.model\")"
   ]
  },
  {
   "cell_type": "code",
   "execution_count": 89,
   "metadata": {},
   "outputs": [
    {
     "data": {
      "text/plain": [
       "['random_forest_churn.model']"
      ]
     },
     "execution_count": 89,
     "metadata": {},
     "output_type": "execute_result"
    }
   ],
   "source": [
    "model_rf = RandomForestClassifier(n_estimators=600,class_weight='balanced',max_depth = 9, max_features = 0.3 ,min_samples_split=10,min_samples_leaf=5,n_jobs=8)\n",
    "model_rf.fit(df_X_churn,df_y_churn)\n",
    "joblib.dump(model_rf,\"random_forest_churn.model\") ##max depth 9 10 11,"
   ]
  },
  {
   "cell_type": "code",
   "execution_count": null,
   "metadata": {},
   "outputs": [],
   "source": [
    "model_rf = RandomForestClassifier(n_estimators=600,class_weight='balanced',max_depth = 30, max_features = 0.3 ,min_samples_split=10,min_samples_leaf=5,n_jobs=8)\n",
    "model_rf.fit(df_X_upselling,df_y_upselling)\n",
    "joblib.dump(model_rf,\"random_forest_upselling.model\")"
   ]
  },
  {
   "cell_type": "markdown",
   "metadata": {},
   "source": [
    "### 2.2 LightGBM"
   ]
  },
  {
   "cell_type": "markdown",
   "metadata": {},
   "source": [
    "##### 2.1.1 Grid search to get the best parameters"
   ]
  },
  {
   "cell_type": "code",
   "execution_count": 65,
   "metadata": {},
   "outputs": [
    {
     "data": {
      "text/plain": [
       "\"\\nparams_test1={'max_depth': range(3,10,1), 'num_leaves':range(5, 100, 5)}\\ngsearch1 = GridSearchCV(estimator=model_lgb, param_grid=params_test1, scoring='roc_auc', cv=5, verbose=1, n_jobs=8)\\ngsearch1.fit(df_X, df_y)\\nbest_max_depth = gsearch1.best_params_['max_depth']\\nbest_num_leaves = gsearch1.best_params_['num_leaves']\\n\\n\\nmodel_lgb = lgb.LGBMClassifier(n_estimators=30,\\n                               silent=True,\\n                               max_bin=50,\\n                               learning_rate=0.1,\\n                               num_leaves=best_num_leaves,\\n                               min_data_in_leaf=20,\\n                               feature_fraction=1.0,\\n                               max_depth=best_max_depth)\\n\\nparams_test2={'max_bin': range(5,255,5), 'min_data_in_leaf':range(10, 200, 5)}\\ngsearch2 = GridSearchCV(estimator=model_lgb, param_grid=params_test2, scoring='roc_auc', cv=5, verbose=1, n_jobs=8)\\ngsearch2.fit(df_X, df_y)\\nbest_max_bin = gsearch2.best_params_['max_bin']\\nbest_min_data_in_leaf = gsearch2.best_params_['min_data_in_leaf']\\n\\n\\n\\nmodel_lgb = lgb.LGBMClassifier(n_estimators=30,\\n                               silent=True,\\n                               max_bin=best_max_bin,\\n                               learning_rate=0.1,\\n                               num_leaves=best_num_leaves,\\n                               min_data_in_leaf=best_min_data_in_leaf,\\n                               feature_fraction=1.0,\\n                               max_depth=best_max_depth)\\n\\nparams_test3={'feature_fraction': [0.5, 0.6, 0.7, 0.8, 0.9,1.0], 'bagging_fraction': [0.6, 0.7, 0.8, 0.9, 1.0]}\\ngsearch3 = GridSearchCV(estimator=model_lgb, param_grid=params_test3, scoring='roc_auc', cv=5, verbose=1, n_jobs=8)\\ngsearch3.fit(df_X, df_y)\\nbest_bagging_fraction = gsearch3.best_params_['bagging_fraction']\\nbest_feature_fraction = gsearch3.best_params_['feature_fraction']\\n\\n\\nmodel_lgb = lgb.LGBMClassifier(n_estimators=30,\\n                               silent=True,\\n                               max_bin=best_max_bin,\\n                               learning_rate=0.1,\\n                               num_leaves=best_num_leaves,\\n                               min_data_in_leaf=best_min_data_in_leaf,\\n                               bagging_fraction=best_bagging_fraction,\\n                               feature_fraction=best_feature_fraction,\\n                               max_depth=best_max_depth)\\n\\nparams_test4={'reg_alpha': [0, 0.001, 0.01, 0.03, 0.08, 0.3, 0.5,0.8,1.0], 'reg_lambda': [0.0,0.001, 0.01, 0.03, 0.08, 0.1,0.2,0.3,0.4,0.5,0.8,1.0]}\\ngsearch4 = GridSearchCV(estimator=model_lgb, param_grid=params_test4, scoring='roc_auc', cv=5, verbose=1, n_jobs=8)\\nbest_reg_alpha = gsearch4.best_params_['reg_alpha']\\nbest_reg_lambda = gsearch4.best_params_['reg_lambda']\\n\\n\\nmodel_lgb = lgb.LGBMClassifier(n_estimators=30,\\n                               silent=True,\\n                               max_bin=best_max_bin,\\n                               learning_rate=0.1,\\n                               num_leaves=best_num_leaves,\\n                               min_data_in_leaf=best_min_data_in_leaf,\\n                               bagging_fraction=best_bagging_fraction,\\n                               feature_fraction=best_feature_fraction,\\n                               max_depth=best_max_depth)\\n\\nparams_test0={'n_estimators':range(10,100,5)}\\ngsearch0 = GridSearchCV(estimator=model_lgb, param_grid=params_test0, scoring='roc_auc', cv=5, verbose=1, n_jobs=8)\\n\""
      ]
     },
     "execution_count": 65,
     "metadata": {},
     "output_type": "execute_result"
    }
   ],
   "source": [
    "'''\n",
    "params_test1={'max_depth': range(3,10,1), 'num_leaves':range(5, 100, 5)}\n",
    "gsearch1 = GridSearchCV(estimator=model_lgb, param_grid=params_test1, scoring='roc_auc', cv=5, verbose=1, n_jobs=8)\n",
    "gsearch1.fit(df_X, df_y)\n",
    "best_max_depth = gsearch1.best_params_['max_depth']\n",
    "best_num_leaves = gsearch1.best_params_['num_leaves']\n",
    "\n",
    "\n",
    "model_lgb = lgb.LGBMClassifier(n_estimators=30,\n",
    "                               silent=True,\n",
    "                               max_bin=50,\n",
    "                               learning_rate=0.1,\n",
    "                               num_leaves=best_num_leaves,\n",
    "                               min_data_in_leaf=20,\n",
    "                               feature_fraction=1.0,\n",
    "                               max_depth=best_max_depth)\n",
    "\n",
    "params_test2={'max_bin': range(5,255,5), 'min_data_in_leaf':range(10, 200, 5)}\n",
    "gsearch2 = GridSearchCV(estimator=model_lgb, param_grid=params_test2, scoring='roc_auc', cv=5, verbose=1, n_jobs=8)\n",
    "gsearch2.fit(df_X, df_y)\n",
    "best_max_bin = gsearch2.best_params_['max_bin']\n",
    "best_min_data_in_leaf = gsearch2.best_params_['min_data_in_leaf']\n",
    "\n",
    "\n",
    "\n",
    "model_lgb = lgb.LGBMClassifier(n_estimators=30,\n",
    "                               silent=True,\n",
    "                               max_bin=best_max_bin,\n",
    "                               learning_rate=0.1,\n",
    "                               num_leaves=best_num_leaves,\n",
    "                               min_data_in_leaf=best_min_data_in_leaf,\n",
    "                               feature_fraction=1.0,\n",
    "                               max_depth=best_max_depth)\n",
    "\n",
    "params_test3={'feature_fraction': [0.5, 0.6, 0.7, 0.8, 0.9,1.0], 'bagging_fraction': [0.6, 0.7, 0.8, 0.9, 1.0]}\n",
    "gsearch3 = GridSearchCV(estimator=model_lgb, param_grid=params_test3, scoring='roc_auc', cv=5, verbose=1, n_jobs=8)\n",
    "gsearch3.fit(df_X, df_y)\n",
    "best_bagging_fraction = gsearch3.best_params_['bagging_fraction']\n",
    "best_feature_fraction = gsearch3.best_params_['feature_fraction']\n",
    "\n",
    "\n",
    "model_lgb = lgb.LGBMClassifier(n_estimators=30,\n",
    "                               silent=True,\n",
    "                               max_bin=best_max_bin,\n",
    "                               learning_rate=0.1,\n",
    "                               num_leaves=best_num_leaves,\n",
    "                               min_data_in_leaf=best_min_data_in_leaf,\n",
    "                               bagging_fraction=best_bagging_fraction,\n",
    "                               feature_fraction=best_feature_fraction,\n",
    "                               max_depth=best_max_depth)\n",
    "\n",
    "params_test4={'reg_alpha': [0, 0.001, 0.01, 0.03, 0.08, 0.3, 0.5,0.8,1.0], 'reg_lambda': [0.0,0.001, 0.01, 0.03, 0.08, 0.1,0.2,0.3,0.4,0.5,0.8,1.0]}\n",
    "gsearch4 = GridSearchCV(estimator=model_lgb, param_grid=params_test4, scoring='roc_auc', cv=5, verbose=1, n_jobs=8)\n",
    "best_reg_alpha = gsearch4.best_params_['reg_alpha']\n",
    "best_reg_lambda = gsearch4.best_params_['reg_lambda']\n",
    "\n",
    "\n",
    "model_lgb = lgb.LGBMClassifier(n_estimators=30,\n",
    "                               silent=True,\n",
    "                               max_bin=best_max_bin,\n",
    "                               learning_rate=0.1,\n",
    "                               num_leaves=best_num_leaves,\n",
    "                               min_data_in_leaf=best_min_data_in_leaf,\n",
    "                               bagging_fraction=best_bagging_fraction,\n",
    "                               feature_fraction=best_feature_fraction,\n",
    "                               max_depth=best_max_depth)\n",
    "\n",
    "params_test0={'n_estimators':range(10,100,5)}\n",
    "gsearch0 = GridSearchCV(estimator=model_lgb, param_grid=params_test0, scoring='roc_auc', cv=5, verbose=1, n_jobs=8)\n",
    "'''"
   ]
  },
  {
   "cell_type": "markdown",
   "metadata": {},
   "source": [
    "#### 2.1.2  train lightGBM"
   ]
  },
  {
   "cell_type": "code",
   "execution_count": 75,
   "metadata": {},
   "outputs": [
    {
     "data": {
      "text/plain": [
       "['light_gbm_appetency.model']"
      ]
     },
     "execution_count": 75,
     "metadata": {},
     "output_type": "execute_result"
    }
   ],
   "source": [
    "appetency_gbm = lgb.LGBMClassifier(n_estimators=1800,\n",
    "                               silent=True,\n",
    "                               max_bin=50,\n",
    "                               learning_rate=0.05,\n",
    "                               num_leaves=1023,\n",
    "                               min_data_in_leaf=20,\n",
    "                               feature_fraction=0.8,\n",
    "                               bagging_fraction=1.0,\n",
    "                               max_depth=10,\n",
    "                               reg_alpha = 0.1,\n",
    "                               reg_lambda = 0.2,\n",
    "                               class_weight='balanced'\n",
    "                               )\n",
    "appetency_gbm.fit(df_X_lightgbm_appetency, df_y_lightgbm_appetency)\n",
    "joblib.dump(appetency_gbm,\"light_gbm_appetency.model\")"
   ]
  },
  {
   "cell_type": "code",
   "execution_count": 88,
   "metadata": {},
   "outputs": [
    {
     "data": {
      "text/plain": [
       "['light_gbm_churn.model']"
      ]
     },
     "execution_count": 88,
     "metadata": {},
     "output_type": "execute_result"
    }
   ],
   "source": [
    "churn_gbm = lgb.LGBMClassifier(n_estimators=1800,\n",
    "                               silent=True,\n",
    "                               max_bin=50,\n",
    "                               learning_rate=0.05,\n",
    "                               num_leaves=255,\n",
    "                               min_data_in_leaf=5,\n",
    "                               feature_fraction=0.8,\n",
    "                               bagging_fraction=1.0,\n",
    "                               max_depth=8,\n",
    "                               reg_alpha = 0.01,\n",
    "                               reg_lambda = 0.1,\n",
    "                               class_weight='balanced'\n",
    "                               )\n",
    "churn_gbm.fit(df_X_lightgbm_churn, df_y_lightgbm_churn)\n",
    "joblib.dump(churn_gbm,\"light_gbm_churn.model\")"
   ]
  },
  {
   "cell_type": "code",
   "execution_count": 68,
   "metadata": {},
   "outputs": [
    {
     "data": {
      "text/plain": [
       "['light_gbm_upselling.model']"
      ]
     },
     "execution_count": 68,
     "metadata": {},
     "output_type": "execute_result"
    }
   ],
   "source": [
    "\n",
    "upselling_gbm = lgb.LGBMClassifier(n_estimators=1800,\n",
    "                               silent=True,\n",
    "                               max_bin=50,\n",
    "                               learning_rate=0.05,\n",
    "                               num_leaves=511,\n",
    "                               min_data_in_leaf=20,\n",
    "                               feature_fraction=0.8,\n",
    "                               bagging_fraction=1.0,\n",
    "                               max_depth=9,\n",
    "                               reg_alpha = 0.1,\n",
    "                               reg_lambda = 0.2,\n",
    "                               class_weight='balanced'\n",
    "                               )\n",
    "upselling_gbm.fit(df_X_lightgbm_upselling, df_y_lightgbm_upselling)\n",
    "joblib.dump(upselling_gbm,\"light_gbm_upselling.model\")"
   ]
  },
  {
   "cell_type": "markdown",
   "metadata": {},
   "source": [
    "#### 2.3 XGBoost"
   ]
  },
  {
   "cell_type": "code",
   "execution_count": null,
   "metadata": {},
   "outputs": [],
   "source": []
  }
 ],
 "metadata": {
  "kernelspec": {
   "display_name": "Python 3",
   "language": "python",
   "name": "python3"
  },
  "language_info": {
   "codemirror_mode": {
    "name": "ipython",
    "version": 3
   },
   "file_extension": ".py",
   "mimetype": "text/x-python",
   "name": "python",
   "nbconvert_exporter": "python",
   "pygments_lexer": "ipython3",
   "version": "3.7.3"
  }
 },
 "nbformat": 4,
 "nbformat_minor": 2
}
